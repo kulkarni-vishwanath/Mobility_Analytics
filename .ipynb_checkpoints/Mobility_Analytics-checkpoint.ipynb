{
 "cells": [
  {
   "cell_type": "code",
   "execution_count": 1,
   "metadata": {},
   "outputs": [],
   "source": [
    "import pandas as pd\n",
    "import numpy as np\n",
    "import matplotlib.pyplot as plt\n",
    "%matplotlib inline\n",
    "pd.options.display.max_columns = 100\n",
    "plt.style.use('ggplot')\n",
    "import seaborn as sns\n",
    "from scipy.stats import norm\n",
    "from sklearn.preprocessing import LabelEncoder,MinMaxScaler\n",
    "from sklearn.model_selection import KFold,RandomizedSearchCV,StratifiedKFold,train_test_split\n",
    "from sklearn.metrics import accuracy_score\n",
    "from sklearn.ensemble import RandomForestClassifier\n",
    "import lightgbm as lgb\n",
    "import xgboost as xgb"
   ]
  },
  {
   "cell_type": "code",
   "execution_count": 2,
   "metadata": {},
   "outputs": [],
   "source": [
    "train = pd.read_csv(r\"C:\\Users\\kulka\\Desktop\\AV_Hackathon_Codes\\Mobility_Analytics_JanataHack\\Data\\train_Wc8LBpr.csv\")\n",
    "test  = pd.read_csv(r\"C:\\Users\\kulka\\Desktop\\AV_Hackathon_Codes\\Mobility_Analytics_JanataHack\\Data\\test_VsU9xXK.csv\")"
   ]
  },
  {
   "cell_type": "code",
   "execution_count": 3,
   "metadata": {},
   "outputs": [
    {
     "data": {
      "text/plain": [
       "((131662, 14), (87395, 13))"
      ]
     },
     "execution_count": 3,
     "metadata": {},
     "output_type": "execute_result"
    }
   ],
   "source": [
    "train.shape, test.shape"
   ]
  },
  {
   "cell_type": "code",
   "execution_count": 4,
   "metadata": {},
   "outputs": [
    {
     "name": "stdout",
     "output_type": "stream",
     "text": [
      "<class 'pandas.core.frame.DataFrame'>\n",
      "RangeIndex: 131662 entries, 0 to 131661\n",
      "Data columns (total 14 columns):\n",
      " #   Column                       Non-Null Count   Dtype  \n",
      "---  ------                       --------------   -----  \n",
      " 0   Trip_ID                      131662 non-null  object \n",
      " 1   Trip_Distance                131662 non-null  float64\n",
      " 2   Type_of_Cab                  111452 non-null  object \n",
      " 3   Customer_Since_Months        125742 non-null  float64\n",
      " 4   Life_Style_Index             111469 non-null  float64\n",
      " 5   Confidence_Life_Style_Index  111469 non-null  object \n",
      " 6   Destination_Type             131662 non-null  object \n",
      " 7   Customer_Rating              131662 non-null  float64\n",
      " 8   Cancellation_Last_1Month     131662 non-null  int64  \n",
      " 9   Var1                         60632 non-null   float64\n",
      " 10  Var2                         131662 non-null  int64  \n",
      " 11  Var3                         131662 non-null  int64  \n",
      " 12  Gender                       131662 non-null  object \n",
      " 13  Surge_Pricing_Type           131662 non-null  int64  \n",
      "dtypes: float64(5), int64(4), object(5)\n",
      "memory usage: 14.1+ MB\n"
     ]
    }
   ],
   "source": [
    "train.info()"
   ]
  },
  {
   "cell_type": "code",
   "execution_count": 5,
   "metadata": {},
   "outputs": [
    {
     "name": "stdout",
     "output_type": "stream",
     "text": [
      "<class 'pandas.core.frame.DataFrame'>\n",
      "RangeIndex: 87395 entries, 0 to 87394\n",
      "Data columns (total 13 columns):\n",
      " #   Column                       Non-Null Count  Dtype  \n",
      "---  ------                       --------------  -----  \n",
      " 0   Trip_ID                      87395 non-null  object \n",
      " 1   Trip_Distance                87395 non-null  float64\n",
      " 2   Type_of_Cab                  74237 non-null  object \n",
      " 3   Customer_Since_Months        83429 non-null  float64\n",
      " 4   Life_Style_Index             74068 non-null  float64\n",
      " 5   Confidence_Life_Style_Index  74068 non-null  object \n",
      " 6   Destination_Type             87395 non-null  object \n",
      " 7   Customer_Rating              87395 non-null  float64\n",
      " 8   Cancellation_Last_1Month     87395 non-null  int64  \n",
      " 9   Var1                         40606 non-null  float64\n",
      " 10  Var2                         87395 non-null  int64  \n",
      " 11  Var3                         87395 non-null  int64  \n",
      " 12  Gender                       87395 non-null  object \n",
      "dtypes: float64(5), int64(3), object(5)\n",
      "memory usage: 8.7+ MB\n"
     ]
    }
   ],
   "source": [
    "test.info()"
   ]
  },
  {
   "cell_type": "markdown",
   "metadata": {},
   "source": [
    "1. 5 Variables are of object data type.\n",
    "2. 5 Variables are of float type and 4 are of int type.\n",
    "3. 5 variables have missing values (Type_of_Cab,Customer_Since_Months,Life_Style_Index,Confidence_Life_Style_Index,Var1).\n",
    "4. No Datetime Variable here.\n",
    "5. Var1 variable has more than 53% missing values, this can either be dropped from the dataset or values can be imputed accordingly.\n",
    "6. Life_Style_Index and Confidence_Life_Style_Index have same number of missing values which might indicate that for a particular record both Life_Style_Index and Confidence_Life_Style_Index are missing. "
   ]
  },
  {
   "cell_type": "code",
   "execution_count": 6,
   "metadata": {},
   "outputs": [
    {
     "data": {
      "text/plain": [
       "Trip_ID                        0.000000\n",
       "Trip_Distance                  0.000000\n",
       "Type_of_Cab                    0.153499\n",
       "Customer_Since_Months          0.044964\n",
       "Life_Style_Index               0.153370\n",
       "Confidence_Life_Style_Index    0.153370\n",
       "Destination_Type               0.000000\n",
       "Customer_Rating                0.000000\n",
       "Cancellation_Last_1Month       0.000000\n",
       "Var1                           0.539487\n",
       "Var2                           0.000000\n",
       "Var3                           0.000000\n",
       "Gender                         0.000000\n",
       "Surge_Pricing_Type             0.000000\n",
       "dtype: float64"
      ]
     },
     "execution_count": 6,
     "metadata": {},
     "output_type": "execute_result"
    }
   ],
   "source": [
    "train.isna().sum()/len(train)"
   ]
  },
  {
   "cell_type": "code",
   "execution_count": 7,
   "metadata": {},
   "outputs": [
    {
     "data": {
      "text/plain": [
       "Trip_ID                        0.000000\n",
       "Trip_Distance                  0.000000\n",
       "Type_of_Cab                    0.150558\n",
       "Customer_Since_Months          0.045380\n",
       "Life_Style_Index               0.152492\n",
       "Confidence_Life_Style_Index    0.152492\n",
       "Destination_Type               0.000000\n",
       "Customer_Rating                0.000000\n",
       "Cancellation_Last_1Month       0.000000\n",
       "Var1                           0.535374\n",
       "Var2                           0.000000\n",
       "Var3                           0.000000\n",
       "Gender                         0.000000\n",
       "dtype: float64"
      ]
     },
     "execution_count": 7,
     "metadata": {},
     "output_type": "execute_result"
    }
   ],
   "source": [
    "test.isna().sum()/len(test)"
   ]
  },
  {
   "cell_type": "code",
   "execution_count": 8,
   "metadata": {},
   "outputs": [
    {
     "data": {
      "text/html": [
       "<div>\n",
       "<style scoped>\n",
       "    .dataframe tbody tr th:only-of-type {\n",
       "        vertical-align: middle;\n",
       "    }\n",
       "\n",
       "    .dataframe tbody tr th {\n",
       "        vertical-align: top;\n",
       "    }\n",
       "\n",
       "    .dataframe thead th {\n",
       "        text-align: right;\n",
       "    }\n",
       "</style>\n",
       "<table border=\"1\" class=\"dataframe\">\n",
       "  <thead>\n",
       "    <tr style=\"text-align: right;\">\n",
       "      <th></th>\n",
       "      <th>Trip_ID</th>\n",
       "      <th>Trip_Distance</th>\n",
       "      <th>Type_of_Cab</th>\n",
       "      <th>Customer_Since_Months</th>\n",
       "      <th>Life_Style_Index</th>\n",
       "      <th>Confidence_Life_Style_Index</th>\n",
       "      <th>Destination_Type</th>\n",
       "      <th>Customer_Rating</th>\n",
       "      <th>Cancellation_Last_1Month</th>\n",
       "      <th>Var1</th>\n",
       "      <th>Var2</th>\n",
       "      <th>Var3</th>\n",
       "      <th>Gender</th>\n",
       "      <th>Surge_Pricing_Type</th>\n",
       "    </tr>\n",
       "  </thead>\n",
       "  <tbody>\n",
       "    <tr>\n",
       "      <th>0</th>\n",
       "      <td>T0005689460</td>\n",
       "      <td>6.77</td>\n",
       "      <td>B</td>\n",
       "      <td>1.0</td>\n",
       "      <td>2.42769</td>\n",
       "      <td>A</td>\n",
       "      <td>A</td>\n",
       "      <td>3.90500</td>\n",
       "      <td>0</td>\n",
       "      <td>40.0</td>\n",
       "      <td>46</td>\n",
       "      <td>60</td>\n",
       "      <td>Female</td>\n",
       "      <td>2</td>\n",
       "    </tr>\n",
       "    <tr>\n",
       "      <th>1</th>\n",
       "      <td>T0005689461</td>\n",
       "      <td>29.47</td>\n",
       "      <td>B</td>\n",
       "      <td>10.0</td>\n",
       "      <td>2.78245</td>\n",
       "      <td>B</td>\n",
       "      <td>A</td>\n",
       "      <td>3.45000</td>\n",
       "      <td>0</td>\n",
       "      <td>38.0</td>\n",
       "      <td>56</td>\n",
       "      <td>78</td>\n",
       "      <td>Male</td>\n",
       "      <td>2</td>\n",
       "    </tr>\n",
       "    <tr>\n",
       "      <th>2</th>\n",
       "      <td>T0005689464</td>\n",
       "      <td>41.58</td>\n",
       "      <td>NaN</td>\n",
       "      <td>10.0</td>\n",
       "      <td>NaN</td>\n",
       "      <td>NaN</td>\n",
       "      <td>E</td>\n",
       "      <td>3.50125</td>\n",
       "      <td>2</td>\n",
       "      <td>NaN</td>\n",
       "      <td>56</td>\n",
       "      <td>77</td>\n",
       "      <td>Male</td>\n",
       "      <td>2</td>\n",
       "    </tr>\n",
       "    <tr>\n",
       "      <th>3</th>\n",
       "      <td>T0005689465</td>\n",
       "      <td>61.56</td>\n",
       "      <td>C</td>\n",
       "      <td>10.0</td>\n",
       "      <td>NaN</td>\n",
       "      <td>NaN</td>\n",
       "      <td>A</td>\n",
       "      <td>3.45375</td>\n",
       "      <td>0</td>\n",
       "      <td>NaN</td>\n",
       "      <td>52</td>\n",
       "      <td>74</td>\n",
       "      <td>Male</td>\n",
       "      <td>3</td>\n",
       "    </tr>\n",
       "    <tr>\n",
       "      <th>4</th>\n",
       "      <td>T0005689467</td>\n",
       "      <td>54.95</td>\n",
       "      <td>C</td>\n",
       "      <td>10.0</td>\n",
       "      <td>3.03453</td>\n",
       "      <td>B</td>\n",
       "      <td>A</td>\n",
       "      <td>3.40250</td>\n",
       "      <td>4</td>\n",
       "      <td>51.0</td>\n",
       "      <td>49</td>\n",
       "      <td>102</td>\n",
       "      <td>Male</td>\n",
       "      <td>2</td>\n",
       "    </tr>\n",
       "  </tbody>\n",
       "</table>\n",
       "</div>"
      ],
      "text/plain": [
       "       Trip_ID  Trip_Distance Type_of_Cab  Customer_Since_Months  \\\n",
       "0  T0005689460           6.77           B                    1.0   \n",
       "1  T0005689461          29.47           B                   10.0   \n",
       "2  T0005689464          41.58         NaN                   10.0   \n",
       "3  T0005689465          61.56           C                   10.0   \n",
       "4  T0005689467          54.95           C                   10.0   \n",
       "\n",
       "   Life_Style_Index Confidence_Life_Style_Index Destination_Type  \\\n",
       "0           2.42769                           A                A   \n",
       "1           2.78245                           B                A   \n",
       "2               NaN                         NaN                E   \n",
       "3               NaN                         NaN                A   \n",
       "4           3.03453                           B                A   \n",
       "\n",
       "   Customer_Rating  Cancellation_Last_1Month  Var1  Var2  Var3  Gender  \\\n",
       "0          3.90500                         0  40.0    46    60  Female   \n",
       "1          3.45000                         0  38.0    56    78    Male   \n",
       "2          3.50125                         2   NaN    56    77    Male   \n",
       "3          3.45375                         0   NaN    52    74    Male   \n",
       "4          3.40250                         4  51.0    49   102    Male   \n",
       "\n",
       "   Surge_Pricing_Type  \n",
       "0                   2  \n",
       "1                   2  \n",
       "2                   2  \n",
       "3                   3  \n",
       "4                   2  "
      ]
     },
     "execution_count": 8,
     "metadata": {},
     "output_type": "execute_result"
    }
   ],
   "source": [
    "train.head()"
   ]
  },
  {
   "cell_type": "code",
   "execution_count": 9,
   "metadata": {},
   "outputs": [
    {
     "data": {
      "text/html": [
       "<div>\n",
       "<style scoped>\n",
       "    .dataframe tbody tr th:only-of-type {\n",
       "        vertical-align: middle;\n",
       "    }\n",
       "\n",
       "    .dataframe tbody tr th {\n",
       "        vertical-align: top;\n",
       "    }\n",
       "\n",
       "    .dataframe thead th {\n",
       "        text-align: right;\n",
       "    }\n",
       "</style>\n",
       "<table border=\"1\" class=\"dataframe\">\n",
       "  <thead>\n",
       "    <tr style=\"text-align: right;\">\n",
       "      <th></th>\n",
       "      <th>Trip_ID</th>\n",
       "      <th>Trip_Distance</th>\n",
       "      <th>Type_of_Cab</th>\n",
       "      <th>Customer_Since_Months</th>\n",
       "      <th>Life_Style_Index</th>\n",
       "      <th>Confidence_Life_Style_Index</th>\n",
       "      <th>Destination_Type</th>\n",
       "      <th>Customer_Rating</th>\n",
       "      <th>Cancellation_Last_1Month</th>\n",
       "      <th>Var1</th>\n",
       "      <th>Var2</th>\n",
       "      <th>Var3</th>\n",
       "      <th>Gender</th>\n",
       "    </tr>\n",
       "  </thead>\n",
       "  <tbody>\n",
       "    <tr>\n",
       "      <th>0</th>\n",
       "      <td>T0005689459</td>\n",
       "      <td>9.44</td>\n",
       "      <td>A</td>\n",
       "      <td>10.0</td>\n",
       "      <td>2.57438</td>\n",
       "      <td>A</td>\n",
       "      <td>B</td>\n",
       "      <td>3.68000</td>\n",
       "      <td>2</td>\n",
       "      <td>NaN</td>\n",
       "      <td>46</td>\n",
       "      <td>63</td>\n",
       "      <td>Male</td>\n",
       "    </tr>\n",
       "    <tr>\n",
       "      <th>1</th>\n",
       "      <td>T0005689462</td>\n",
       "      <td>32.15</td>\n",
       "      <td>B</td>\n",
       "      <td>10.0</td>\n",
       "      <td>2.85143</td>\n",
       "      <td>A</td>\n",
       "      <td>A</td>\n",
       "      <td>1.59375</td>\n",
       "      <td>0</td>\n",
       "      <td>65.0</td>\n",
       "      <td>49</td>\n",
       "      <td>80</td>\n",
       "      <td>Female</td>\n",
       "    </tr>\n",
       "    <tr>\n",
       "      <th>2</th>\n",
       "      <td>T0005689463</td>\n",
       "      <td>10.38</td>\n",
       "      <td>C</td>\n",
       "      <td>4.0</td>\n",
       "      <td>2.70530</td>\n",
       "      <td>A</td>\n",
       "      <td>D</td>\n",
       "      <td>4.50500</td>\n",
       "      <td>0</td>\n",
       "      <td>NaN</td>\n",
       "      <td>47</td>\n",
       "      <td>74</td>\n",
       "      <td>Male</td>\n",
       "    </tr>\n",
       "    <tr>\n",
       "      <th>3</th>\n",
       "      <td>T0005689466</td>\n",
       "      <td>14.94</td>\n",
       "      <td>NaN</td>\n",
       "      <td>6.0</td>\n",
       "      <td>2.48159</td>\n",
       "      <td>C</td>\n",
       "      <td>E</td>\n",
       "      <td>4.53000</td>\n",
       "      <td>0</td>\n",
       "      <td>63.0</td>\n",
       "      <td>43</td>\n",
       "      <td>54</td>\n",
       "      <td>Male</td>\n",
       "    </tr>\n",
       "    <tr>\n",
       "      <th>4</th>\n",
       "      <td>T0005689468</td>\n",
       "      <td>32.03</td>\n",
       "      <td>B</td>\n",
       "      <td>7.0</td>\n",
       "      <td>2.81598</td>\n",
       "      <td>A</td>\n",
       "      <td>K</td>\n",
       "      <td>4.60125</td>\n",
       "      <td>3</td>\n",
       "      <td>96.0</td>\n",
       "      <td>44</td>\n",
       "      <td>56</td>\n",
       "      <td>Male</td>\n",
       "    </tr>\n",
       "  </tbody>\n",
       "</table>\n",
       "</div>"
      ],
      "text/plain": [
       "       Trip_ID  Trip_Distance Type_of_Cab  Customer_Since_Months  \\\n",
       "0  T0005689459           9.44           A                   10.0   \n",
       "1  T0005689462          32.15           B                   10.0   \n",
       "2  T0005689463          10.38           C                    4.0   \n",
       "3  T0005689466          14.94         NaN                    6.0   \n",
       "4  T0005689468          32.03           B                    7.0   \n",
       "\n",
       "   Life_Style_Index Confidence_Life_Style_Index Destination_Type  \\\n",
       "0           2.57438                           A                B   \n",
       "1           2.85143                           A                A   \n",
       "2           2.70530                           A                D   \n",
       "3           2.48159                           C                E   \n",
       "4           2.81598                           A                K   \n",
       "\n",
       "   Customer_Rating  Cancellation_Last_1Month  Var1  Var2  Var3  Gender  \n",
       "0          3.68000                         2   NaN    46    63    Male  \n",
       "1          1.59375                         0  65.0    49    80  Female  \n",
       "2          4.50500                         0   NaN    47    74    Male  \n",
       "3          4.53000                         0  63.0    43    54    Male  \n",
       "4          4.60125                         3  96.0    44    56    Male  "
      ]
     },
     "execution_count": 9,
     "metadata": {},
     "output_type": "execute_result"
    }
   ],
   "source": [
    "test.head()"
   ]
  },
  {
   "cell_type": "code",
   "execution_count": 10,
   "metadata": {},
   "outputs": [],
   "source": [
    "# Creating Submission dataframe with just Trip_ID column.\n",
    "Submission=test[['Trip_ID']]\n",
    "test.drop(\"Trip_ID\",axis=1,inplace=True)"
   ]
  },
  {
   "cell_type": "markdown",
   "metadata": {},
   "source": [
    "### EDA"
   ]
  },
  {
   "cell_type": "markdown",
   "metadata": {},
   "source": [
    "#### Dependent Variable"
   ]
  },
  {
   "cell_type": "code",
   "execution_count": 11,
   "metadata": {},
   "outputs": [
    {
     "data": {
      "text/plain": [
       "2    56728\n",
       "3    47720\n",
       "1    27214\n",
       "Name: Surge_Pricing_Type, dtype: int64"
      ]
     },
     "execution_count": 11,
     "metadata": {},
     "output_type": "execute_result"
    }
   ],
   "source": [
    "train['Surge_Pricing_Type'].value_counts(dropna=False)"
   ]
  },
  {
   "cell_type": "code",
   "execution_count": 12,
   "metadata": {},
   "outputs": [
    {
     "data": {
      "image/png": "[encoded data removed]",
      "text/plain": [
       "<Figure size 432x288 with 1 Axes>"
      ]
     },
     "metadata": {},
     "output_type": "display_data"
    }
   ],
   "source": [
    "train['Surge_Pricing_Type'].value_counts(dropna=False).plot(kind='bar');\n",
    "plt.xticks(rotation=360);\n",
    "plt.xlabel(\"Surge_Pricing_Type\");\n",
    "plt.ylabel(\"Count\");\n",
    "plt.title(\"Distribution of Target Variable\");"
   ]
  },
  {
   "cell_type": "markdown",
   "metadata": {},
   "source": [
    "### Independent Variable"
   ]
  },
  {
   "cell_type": "markdown",
   "metadata": {},
   "source": [
    "#### Trip_Distance"
   ]
  },
  {
   "cell_type": "code",
   "execution_count": 13,
   "metadata": {},
   "outputs": [
    {
     "data": {
      "text/plain": [
       "count    131662.000000\n",
       "mean         44.200909\n",
       "std          25.522882\n",
       "min           0.310000\n",
       "25%          24.580000\n",
       "50%          38.200000\n",
       "75%          60.730000\n",
       "max         109.230000\n",
       "Name: Trip_Distance, dtype: float64"
      ]
     },
     "execution_count": 13,
     "metadata": {},
     "output_type": "execute_result"
    }
   ],
   "source": [
    "train['Trip_Distance'].describe()"
   ]
  },
  {
   "cell_type": "markdown",
   "metadata": {},
   "source": [
    "1. The Mean Trip distance is 44.20 units.\n",
    "2. Minimum seems to be 0.31 units which is too less and can be an anomaly.\n",
    "3. Maximum is 109 units which should also be explored. \n",
    "4. The median value is 38 units. "
   ]
  },
  {
   "cell_type": "code",
   "execution_count": 14,
   "metadata": {},
   "outputs": [
    {
     "name": "stdout",
     "output_type": "stream",
     "text": [
      "Values below 15.759999999999994 and Values above 39.28 can be considered as outliers.\n"
     ]
    }
   ],
   "source": [
    "Q1 = train['Trip_Distance'].quantile(0.25)\n",
    "Q3 = train['Trip_Distance'].quantile(0.35)\n",
    "IQR = Q3-Q1\n",
    "print (\"Values below {} and Values above {} can be considered as outliers.\".format(Q1-1.5*IQR,Q3+1.5*IQR))"
   ]
  },
  {
   "cell_type": "code",
   "execution_count": 15,
   "metadata": {},
   "outputs": [
    {
     "data": {
      "text/html": [
       "<div>\n",
       "<style scoped>\n",
       "    .dataframe tbody tr th:only-of-type {\n",
       "        vertical-align: middle;\n",
       "    }\n",
       "\n",
       "    .dataframe tbody tr th {\n",
       "        vertical-align: top;\n",
       "    }\n",
       "\n",
       "    .dataframe thead th {\n",
       "        text-align: right;\n",
       "    }\n",
       "</style>\n",
       "<table border=\"1\" class=\"dataframe\">\n",
       "  <thead>\n",
       "    <tr style=\"text-align: right;\">\n",
       "      <th></th>\n",
       "      <th>Trip_ID</th>\n",
       "      <th>Trip_Distance</th>\n",
       "      <th>Type_of_Cab</th>\n",
       "      <th>Customer_Since_Months</th>\n",
       "      <th>Life_Style_Index</th>\n",
       "      <th>Confidence_Life_Style_Index</th>\n",
       "      <th>Destination_Type</th>\n",
       "      <th>Customer_Rating</th>\n",
       "      <th>Cancellation_Last_1Month</th>\n",
       "      <th>Var1</th>\n",
       "      <th>Var2</th>\n",
       "      <th>Var3</th>\n",
       "      <th>Gender</th>\n",
       "      <th>Surge_Pricing_Type</th>\n",
       "    </tr>\n",
       "  </thead>\n",
       "  <tbody>\n",
       "    <tr>\n",
       "      <th>0</th>\n",
       "      <td>T0005689460</td>\n",
       "      <td>6.77</td>\n",
       "      <td>B</td>\n",
       "      <td>1.0</td>\n",
       "      <td>2.42769</td>\n",
       "      <td>A</td>\n",
       "      <td>A</td>\n",
       "      <td>3.90500</td>\n",
       "      <td>0</td>\n",
       "      <td>40.0</td>\n",
       "      <td>46</td>\n",
       "      <td>60</td>\n",
       "      <td>Female</td>\n",
       "      <td>2</td>\n",
       "    </tr>\n",
       "    <tr>\n",
       "      <th>2</th>\n",
       "      <td>T0005689464</td>\n",
       "      <td>41.58</td>\n",
       "      <td>NaN</td>\n",
       "      <td>10.0</td>\n",
       "      <td>NaN</td>\n",
       "      <td>NaN</td>\n",
       "      <td>E</td>\n",
       "      <td>3.50125</td>\n",
       "      <td>2</td>\n",
       "      <td>NaN</td>\n",
       "      <td>56</td>\n",
       "      <td>77</td>\n",
       "      <td>Male</td>\n",
       "      <td>2</td>\n",
       "    </tr>\n",
       "    <tr>\n",
       "      <th>3</th>\n",
       "      <td>T0005689465</td>\n",
       "      <td>61.56</td>\n",
       "      <td>C</td>\n",
       "      <td>10.0</td>\n",
       "      <td>NaN</td>\n",
       "      <td>NaN</td>\n",
       "      <td>A</td>\n",
       "      <td>3.45375</td>\n",
       "      <td>0</td>\n",
       "      <td>NaN</td>\n",
       "      <td>52</td>\n",
       "      <td>74</td>\n",
       "      <td>Male</td>\n",
       "      <td>3</td>\n",
       "    </tr>\n",
       "    <tr>\n",
       "      <th>4</th>\n",
       "      <td>T0005689467</td>\n",
       "      <td>54.95</td>\n",
       "      <td>C</td>\n",
       "      <td>10.0</td>\n",
       "      <td>3.03453</td>\n",
       "      <td>B</td>\n",
       "      <td>A</td>\n",
       "      <td>3.40250</td>\n",
       "      <td>4</td>\n",
       "      <td>51.0</td>\n",
       "      <td>49</td>\n",
       "      <td>102</td>\n",
       "      <td>Male</td>\n",
       "      <td>2</td>\n",
       "    </tr>\n",
       "    <tr>\n",
       "      <th>8</th>\n",
       "      <td>T0005689473</td>\n",
       "      <td>106.80</td>\n",
       "      <td>C</td>\n",
       "      <td>3.0</td>\n",
       "      <td>NaN</td>\n",
       "      <td>NaN</td>\n",
       "      <td>A</td>\n",
       "      <td>3.14625</td>\n",
       "      <td>0</td>\n",
       "      <td>NaN</td>\n",
       "      <td>58</td>\n",
       "      <td>92</td>\n",
       "      <td>Male</td>\n",
       "      <td>2</td>\n",
       "    </tr>\n",
       "    <tr>\n",
       "      <th>...</th>\n",
       "      <td>...</td>\n",
       "      <td>...</td>\n",
       "      <td>...</td>\n",
       "      <td>...</td>\n",
       "      <td>...</td>\n",
       "      <td>...</td>\n",
       "      <td>...</td>\n",
       "      <td>...</td>\n",
       "      <td>...</td>\n",
       "      <td>...</td>\n",
       "      <td>...</td>\n",
       "      <td>...</td>\n",
       "      <td>...</td>\n",
       "      <td>...</td>\n",
       "    </tr>\n",
       "    <tr>\n",
       "      <th>131654</th>\n",
       "      <td>T0005908506</td>\n",
       "      <td>40.15</td>\n",
       "      <td>E</td>\n",
       "      <td>4.0</td>\n",
       "      <td>NaN</td>\n",
       "      <td>NaN</td>\n",
       "      <td>A</td>\n",
       "      <td>2.74625</td>\n",
       "      <td>1</td>\n",
       "      <td>NaN</td>\n",
       "      <td>49</td>\n",
       "      <td>63</td>\n",
       "      <td>Female</td>\n",
       "      <td>3</td>\n",
       "    </tr>\n",
       "    <tr>\n",
       "      <th>131657</th>\n",
       "      <td>T0005908509</td>\n",
       "      <td>11.72</td>\n",
       "      <td>D</td>\n",
       "      <td>1.0</td>\n",
       "      <td>2.74229</td>\n",
       "      <td>A</td>\n",
       "      <td>A</td>\n",
       "      <td>3.28500</td>\n",
       "      <td>0</td>\n",
       "      <td>61.0</td>\n",
       "      <td>47</td>\n",
       "      <td>76</td>\n",
       "      <td>Male</td>\n",
       "      <td>3</td>\n",
       "    </tr>\n",
       "    <tr>\n",
       "      <th>131658</th>\n",
       "      <td>T0005908510</td>\n",
       "      <td>74.81</td>\n",
       "      <td>C</td>\n",
       "      <td>7.0</td>\n",
       "      <td>2.81059</td>\n",
       "      <td>C</td>\n",
       "      <td>A</td>\n",
       "      <td>0.44500</td>\n",
       "      <td>0</td>\n",
       "      <td>NaN</td>\n",
       "      <td>63</td>\n",
       "      <td>88</td>\n",
       "      <td>Male</td>\n",
       "      <td>2</td>\n",
       "    </tr>\n",
       "    <tr>\n",
       "      <th>131659</th>\n",
       "      <td>T0005908512</td>\n",
       "      <td>40.17</td>\n",
       "      <td>C</td>\n",
       "      <td>10.0</td>\n",
       "      <td>2.99565</td>\n",
       "      <td>B</td>\n",
       "      <td>A</td>\n",
       "      <td>3.33625</td>\n",
       "      <td>0</td>\n",
       "      <td>NaN</td>\n",
       "      <td>48</td>\n",
       "      <td>75</td>\n",
       "      <td>Female</td>\n",
       "      <td>2</td>\n",
       "    </tr>\n",
       "    <tr>\n",
       "      <th>131660</th>\n",
       "      <td>T0005908513</td>\n",
       "      <td>46.88</td>\n",
       "      <td>B</td>\n",
       "      <td>4.0</td>\n",
       "      <td>3.04744</td>\n",
       "      <td>A</td>\n",
       "      <td>B</td>\n",
       "      <td>4.15750</td>\n",
       "      <td>1</td>\n",
       "      <td>47.0</td>\n",
       "      <td>54</td>\n",
       "      <td>79</td>\n",
       "      <td>Male</td>\n",
       "      <td>2</td>\n",
       "    </tr>\n",
       "  </tbody>\n",
       "</table>\n",
       "<p>78878 rows × 14 columns</p>\n",
       "</div>"
      ],
      "text/plain": [
       "            Trip_ID  Trip_Distance Type_of_Cab  Customer_Since_Months  \\\n",
       "0       T0005689460           6.77           B                    1.0   \n",
       "2       T0005689464          41.58         NaN                   10.0   \n",
       "3       T0005689465          61.56           C                   10.0   \n",
       "4       T0005689467          54.95           C                   10.0   \n",
       "8       T0005689473         106.80           C                    3.0   \n",
       "...             ...            ...         ...                    ...   \n",
       "131654  T0005908506          40.15           E                    4.0   \n",
       "131657  T0005908509          11.72           D                    1.0   \n",
       "131658  T0005908510          74.81           C                    7.0   \n",
       "131659  T0005908512          40.17           C                   10.0   \n",
       "131660  T0005908513          46.88           B                    4.0   \n",
       "\n",
       "        Life_Style_Index Confidence_Life_Style_Index Destination_Type  \\\n",
       "0                2.42769                           A                A   \n",
       "2                    NaN                         NaN                E   \n",
       "3                    NaN                         NaN                A   \n",
       "4                3.03453                           B                A   \n",
       "8                    NaN                         NaN                A   \n",
       "...                  ...                         ...              ...   \n",
       "131654               NaN                         NaN                A   \n",
       "131657           2.74229                           A                A   \n",
       "131658           2.81059                           C                A   \n",
       "131659           2.99565                           B                A   \n",
       "131660           3.04744                           A                B   \n",
       "\n",
       "        Customer_Rating  Cancellation_Last_1Month  Var1  Var2  Var3  Gender  \\\n",
       "0               3.90500                         0  40.0    46    60  Female   \n",
       "2               3.50125                         2   NaN    56    77    Male   \n",
       "3               3.45375                         0   NaN    52    74    Male   \n",
       "4               3.40250                         4  51.0    49   102    Male   \n",
       "8               3.14625                         0   NaN    58    92    Male   \n",
       "...                 ...                       ...   ...   ...   ...     ...   \n",
       "131654          2.74625                         1   NaN    49    63  Female   \n",
       "131657          3.28500                         0  61.0    47    76    Male   \n",
       "131658          0.44500                         0   NaN    63    88    Male   \n",
       "131659          3.33625                         0   NaN    48    75  Female   \n",
       "131660          4.15750                         1  47.0    54    79    Male   \n",
       "\n",
       "        Surge_Pricing_Type  \n",
       "0                        2  \n",
       "2                        2  \n",
       "3                        3  \n",
       "4                        2  \n",
       "8                        2  \n",
       "...                    ...  \n",
       "131654                   3  \n",
       "131657                   3  \n",
       "131658                   2  \n",
       "131659                   2  \n",
       "131660                   2  \n",
       "\n",
       "[78878 rows x 14 columns]"
      ]
     },
     "execution_count": 15,
     "metadata": {},
     "output_type": "execute_result"
    }
   ],
   "source": [
    "# Lets check how many records are below and above the outlier range\n",
    "train[(train['Trip_Distance'] <= 15.75) | (train['Trip_Distance'] >= 39.29)]"
   ]
  },
  {
   "cell_type": "code",
   "execution_count": 16,
   "metadata": {},
   "outputs": [
    {
     "data": {
      "image/png": "[encoded data removed]",
      "text/plain": [
       "<Figure size 432x288 with 1 Axes>"
      ]
     },
     "metadata": {},
     "output_type": "display_data"
    }
   ],
   "source": [
    "sns.distplot(train['Trip_Distance']);\n",
    "plt.title(\"Distribution of Target Variable\");\n",
    "plt.ylabel(\"Frequency\");\n",
    "# Doesn't look like a normal distribution. "
   ]
  },
  {
   "cell_type": "markdown",
   "metadata": {},
   "source": [
    "#### Type_Of_Cab"
   ]
  },
  {
   "cell_type": "code",
   "execution_count": 17,
   "metadata": {},
   "outputs": [
    {
     "data": {
      "text/plain": [
       "B      0.236484\n",
       "C      0.213592\n",
       "A      0.163821\n",
       "NaN    0.153499\n",
       "D      0.144241\n",
       "E      0.088363\n",
       "Name: Type_of_Cab, dtype: float64"
      ]
     },
     "execution_count": 17,
     "metadata": {},
     "output_type": "execute_result"
    }
   ],
   "source": [
    "train['Type_of_Cab'].value_counts(dropna=False)/len(train)"
   ]
  },
  {
   "cell_type": "code",
   "execution_count": 18,
   "metadata": {},
   "outputs": [],
   "source": [
    "# There are 15% missing values in this variable.\n",
    "# B seems to be the popular Cab Type and E seems to be least popular."
   ]
  },
  {
   "cell_type": "markdown",
   "metadata": {},
   "source": [
    "#### Customer_Since_Months"
   ]
  },
  {
   "cell_type": "code",
   "execution_count": 19,
   "metadata": {},
   "outputs": [
    {
     "data": {
      "text/plain": [
       "10.0    42680\n",
       "2.0     11621\n",
       "3.0     10351\n",
       "0.0     10169\n",
       "5.0      8641\n",
       "1.0      8297\n",
       "4.0      7726\n",
       "7.0      7407\n",
       "6.0      7375\n",
       "8.0      6328\n",
       "NaN      5920\n",
       "9.0      5147\n",
       "Name: Customer_Since_Months, dtype: int64"
      ]
     },
     "execution_count": 19,
     "metadata": {},
     "output_type": "execute_result"
    }
   ],
   "source": [
    "train['Customer_Since_Months'].value_counts(dropna=False)"
   ]
  },
  {
   "cell_type": "markdown",
   "metadata": {},
   "source": [
    "1. 0.0 indicates they are new customers. \n",
    "2. Most of the customers have been with the cab aggregator for about 10 months (About 32% of customers).\n",
    "3. There are missing values here as well. "
   ]
  },
  {
   "cell_type": "markdown",
   "metadata": {},
   "source": [
    "#### Life_Style_Index and Confidence_Life_Style_Index"
   ]
  },
  {
   "cell_type": "markdown",
   "metadata": {},
   "source": [
    "Analyzing these two variables together as they seem to be missing together."
   ]
  },
  {
   "cell_type": "code",
   "execution_count": 20,
   "metadata": {},
   "outputs": [
    {
     "data": {
      "text/html": [
       "<div>\n",
       "<style scoped>\n",
       "    .dataframe tbody tr th:only-of-type {\n",
       "        vertical-align: middle;\n",
       "    }\n",
       "\n",
       "    .dataframe tbody tr th {\n",
       "        vertical-align: top;\n",
       "    }\n",
       "\n",
       "    .dataframe thead th {\n",
       "        text-align: right;\n",
       "    }\n",
       "</style>\n",
       "<table border=\"1\" class=\"dataframe\">\n",
       "  <thead>\n",
       "    <tr style=\"text-align: right;\">\n",
       "      <th></th>\n",
       "      <th>Trip_ID</th>\n",
       "      <th>Trip_Distance</th>\n",
       "      <th>Type_of_Cab</th>\n",
       "      <th>Customer_Since_Months</th>\n",
       "      <th>Life_Style_Index</th>\n",
       "      <th>Confidence_Life_Style_Index</th>\n",
       "      <th>Destination_Type</th>\n",
       "      <th>Customer_Rating</th>\n",
       "      <th>Cancellation_Last_1Month</th>\n",
       "      <th>Var1</th>\n",
       "      <th>Var2</th>\n",
       "      <th>Var3</th>\n",
       "      <th>Gender</th>\n",
       "      <th>Surge_Pricing_Type</th>\n",
       "    </tr>\n",
       "  </thead>\n",
       "  <tbody>\n",
       "    <tr>\n",
       "      <th>2</th>\n",
       "      <td>T0005689464</td>\n",
       "      <td>41.58</td>\n",
       "      <td>NaN</td>\n",
       "      <td>10.0</td>\n",
       "      <td>NaN</td>\n",
       "      <td>NaN</td>\n",
       "      <td>E</td>\n",
       "      <td>3.50125</td>\n",
       "      <td>2</td>\n",
       "      <td>NaN</td>\n",
       "      <td>56</td>\n",
       "      <td>77</td>\n",
       "      <td>Male</td>\n",
       "      <td>2</td>\n",
       "    </tr>\n",
       "    <tr>\n",
       "      <th>3</th>\n",
       "      <td>T0005689465</td>\n",
       "      <td>61.56</td>\n",
       "      <td>C</td>\n",
       "      <td>10.0</td>\n",
       "      <td>NaN</td>\n",
       "      <td>NaN</td>\n",
       "      <td>A</td>\n",
       "      <td>3.45375</td>\n",
       "      <td>0</td>\n",
       "      <td>NaN</td>\n",
       "      <td>52</td>\n",
       "      <td>74</td>\n",
       "      <td>Male</td>\n",
       "      <td>3</td>\n",
       "    </tr>\n",
       "    <tr>\n",
       "      <th>5</th>\n",
       "      <td>T0005689469</td>\n",
       "      <td>19.06</td>\n",
       "      <td>E</td>\n",
       "      <td>10.0</td>\n",
       "      <td>NaN</td>\n",
       "      <td>NaN</td>\n",
       "      <td>A</td>\n",
       "      <td>2.59750</td>\n",
       "      <td>1</td>\n",
       "      <td>72.0</td>\n",
       "      <td>63</td>\n",
       "      <td>91</td>\n",
       "      <td>Male</td>\n",
       "      <td>3</td>\n",
       "    </tr>\n",
       "    <tr>\n",
       "      <th>8</th>\n",
       "      <td>T0005689473</td>\n",
       "      <td>106.80</td>\n",
       "      <td>C</td>\n",
       "      <td>3.0</td>\n",
       "      <td>NaN</td>\n",
       "      <td>NaN</td>\n",
       "      <td>A</td>\n",
       "      <td>3.14625</td>\n",
       "      <td>0</td>\n",
       "      <td>NaN</td>\n",
       "      <td>58</td>\n",
       "      <td>92</td>\n",
       "      <td>Male</td>\n",
       "      <td>2</td>\n",
       "    </tr>\n",
       "    <tr>\n",
       "      <th>37</th>\n",
       "      <td>T0005689517</td>\n",
       "      <td>93.78</td>\n",
       "      <td>NaN</td>\n",
       "      <td>4.0</td>\n",
       "      <td>NaN</td>\n",
       "      <td>NaN</td>\n",
       "      <td>A</td>\n",
       "      <td>3.33125</td>\n",
       "      <td>2</td>\n",
       "      <td>NaN</td>\n",
       "      <td>62</td>\n",
       "      <td>98</td>\n",
       "      <td>Female</td>\n",
       "      <td>3</td>\n",
       "    </tr>\n",
       "    <tr>\n",
       "      <th>...</th>\n",
       "      <td>...</td>\n",
       "      <td>...</td>\n",
       "      <td>...</td>\n",
       "      <td>...</td>\n",
       "      <td>...</td>\n",
       "      <td>...</td>\n",
       "      <td>...</td>\n",
       "      <td>...</td>\n",
       "      <td>...</td>\n",
       "      <td>...</td>\n",
       "      <td>...</td>\n",
       "      <td>...</td>\n",
       "      <td>...</td>\n",
       "      <td>...</td>\n",
       "    </tr>\n",
       "    <tr>\n",
       "      <th>131623</th>\n",
       "      <td>T0005908452</td>\n",
       "      <td>37.91</td>\n",
       "      <td>B</td>\n",
       "      <td>10.0</td>\n",
       "      <td>NaN</td>\n",
       "      <td>NaN</td>\n",
       "      <td>A</td>\n",
       "      <td>2.18500</td>\n",
       "      <td>2</td>\n",
       "      <td>NaN</td>\n",
       "      <td>51</td>\n",
       "      <td>78</td>\n",
       "      <td>Male</td>\n",
       "      <td>2</td>\n",
       "    </tr>\n",
       "    <tr>\n",
       "      <th>131637</th>\n",
       "      <td>T0005908475</td>\n",
       "      <td>15.99</td>\n",
       "      <td>E</td>\n",
       "      <td>4.0</td>\n",
       "      <td>NaN</td>\n",
       "      <td>NaN</td>\n",
       "      <td>A</td>\n",
       "      <td>2.19250</td>\n",
       "      <td>3</td>\n",
       "      <td>61.0</td>\n",
       "      <td>45</td>\n",
       "      <td>78</td>\n",
       "      <td>Male</td>\n",
       "      <td>3</td>\n",
       "    </tr>\n",
       "    <tr>\n",
       "      <th>131646</th>\n",
       "      <td>T0005908490</td>\n",
       "      <td>20.20</td>\n",
       "      <td>E</td>\n",
       "      <td>10.0</td>\n",
       "      <td>NaN</td>\n",
       "      <td>NaN</td>\n",
       "      <td>B</td>\n",
       "      <td>1.26750</td>\n",
       "      <td>0</td>\n",
       "      <td>37.0</td>\n",
       "      <td>69</td>\n",
       "      <td>96</td>\n",
       "      <td>Male</td>\n",
       "      <td>1</td>\n",
       "    </tr>\n",
       "    <tr>\n",
       "      <th>131647</th>\n",
       "      <td>T0005908491</td>\n",
       "      <td>15.96</td>\n",
       "      <td>B</td>\n",
       "      <td>3.0</td>\n",
       "      <td>NaN</td>\n",
       "      <td>NaN</td>\n",
       "      <td>C</td>\n",
       "      <td>1.75500</td>\n",
       "      <td>1</td>\n",
       "      <td>NaN</td>\n",
       "      <td>50</td>\n",
       "      <td>67</td>\n",
       "      <td>Male</td>\n",
       "      <td>2</td>\n",
       "    </tr>\n",
       "    <tr>\n",
       "      <th>131654</th>\n",
       "      <td>T0005908506</td>\n",
       "      <td>40.15</td>\n",
       "      <td>E</td>\n",
       "      <td>4.0</td>\n",
       "      <td>NaN</td>\n",
       "      <td>NaN</td>\n",
       "      <td>A</td>\n",
       "      <td>2.74625</td>\n",
       "      <td>1</td>\n",
       "      <td>NaN</td>\n",
       "      <td>49</td>\n",
       "      <td>63</td>\n",
       "      <td>Female</td>\n",
       "      <td>3</td>\n",
       "    </tr>\n",
       "  </tbody>\n",
       "</table>\n",
       "<p>20193 rows × 14 columns</p>\n",
       "</div>"
      ],
      "text/plain": [
       "            Trip_ID  Trip_Distance Type_of_Cab  Customer_Since_Months  \\\n",
       "2       T0005689464          41.58         NaN                   10.0   \n",
       "3       T0005689465          61.56           C                   10.0   \n",
       "5       T0005689469          19.06           E                   10.0   \n",
       "8       T0005689473         106.80           C                    3.0   \n",
       "37      T0005689517          93.78         NaN                    4.0   \n",
       "...             ...            ...         ...                    ...   \n",
       "131623  T0005908452          37.91           B                   10.0   \n",
       "131637  T0005908475          15.99           E                    4.0   \n",
       "131646  T0005908490          20.20           E                   10.0   \n",
       "131647  T0005908491          15.96           B                    3.0   \n",
       "131654  T0005908506          40.15           E                    4.0   \n",
       "\n",
       "        Life_Style_Index Confidence_Life_Style_Index Destination_Type  \\\n",
       "2                    NaN                         NaN                E   \n",
       "3                    NaN                         NaN                A   \n",
       "5                    NaN                         NaN                A   \n",
       "8                    NaN                         NaN                A   \n",
       "37                   NaN                         NaN                A   \n",
       "...                  ...                         ...              ...   \n",
       "131623               NaN                         NaN                A   \n",
       "131637               NaN                         NaN                A   \n",
       "131646               NaN                         NaN                B   \n",
       "131647               NaN                         NaN                C   \n",
       "131654               NaN                         NaN                A   \n",
       "\n",
       "        Customer_Rating  Cancellation_Last_1Month  Var1  Var2  Var3  Gender  \\\n",
       "2               3.50125                         2   NaN    56    77    Male   \n",
       "3               3.45375                         0   NaN    52    74    Male   \n",
       "5               2.59750                         1  72.0    63    91    Male   \n",
       "8               3.14625                         0   NaN    58    92    Male   \n",
       "37              3.33125                         2   NaN    62    98  Female   \n",
       "...                 ...                       ...   ...   ...   ...     ...   \n",
       "131623          2.18500                         2   NaN    51    78    Male   \n",
       "131637          2.19250                         3  61.0    45    78    Male   \n",
       "131646          1.26750                         0  37.0    69    96    Male   \n",
       "131647          1.75500                         1   NaN    50    67    Male   \n",
       "131654          2.74625                         1   NaN    49    63  Female   \n",
       "\n",
       "        Surge_Pricing_Type  \n",
       "2                        2  \n",
       "3                        3  \n",
       "5                        3  \n",
       "8                        2  \n",
       "37                       3  \n",
       "...                    ...  \n",
       "131623                   2  \n",
       "131637                   3  \n",
       "131646                   1  \n",
       "131647                   2  \n",
       "131654                   3  \n",
       "\n",
       "[20193 rows x 14 columns]"
      ]
     },
     "execution_count": 20,
     "metadata": {},
     "output_type": "execute_result"
    }
   ],
   "source": [
    "train[(train['Life_Style_Index'].isna()) & (train['Confidence_Life_Style_Index'].isna())]"
   ]
  },
  {
   "cell_type": "code",
   "execution_count": 21,
   "metadata": {},
   "outputs": [
    {
     "data": {
      "text/plain": [
       "count    111469.000000\n",
       "mean          2.802064\n",
       "std           0.225796\n",
       "min           1.596380\n",
       "25%           2.654730\n",
       "50%           2.798050\n",
       "75%           2.946780\n",
       "max           4.875110\n",
       "Name: Life_Style_Index, dtype: float64"
      ]
     },
     "execution_count": 21,
     "metadata": {},
     "output_type": "execute_result"
    }
   ],
   "source": [
    "train['Life_Style_Index'].describe()"
   ]
  },
  {
   "cell_type": "markdown",
   "metadata": {},
   "source": [
    "1. Minimum value of Life_Style_Index is 1.59 and Maximum value is 4.87 with a mean of 2.80 and Median of 2.79.\n",
    "2. Standard deviation is 0.22 and the distribution almost looks like a normal one. \n",
    "3. There are a lot of missing values here."
   ]
  },
  {
   "cell_type": "code",
   "execution_count": 22,
   "metadata": {},
   "outputs": [
    {
     "data": {
      "text/plain": [
       "<matplotlib.axes._subplots.AxesSubplot at 0x1f768eb7408>"
      ]
     },
     "execution_count": 22,
     "metadata": {},
     "output_type": "execute_result"
    },
    {
     "data": {
      "image/png": "[encoded data removed]",
      "text/plain": [
       "<Figure size 432x288 with 1 Axes>"
      ]
     },
     "metadata": {},
     "output_type": "display_data"
    }
   ],
   "source": [
    "sns.distplot(train['Life_Style_Index'])\n",
    "# Looks like a normal distribution."
   ]
  },
  {
   "cell_type": "code",
   "execution_count": 23,
   "metadata": {},
   "outputs": [
    {
     "data": {
      "text/plain": [
       "B      40355\n",
       "C      35967\n",
       "A      35147\n",
       "NaN    20193\n",
       "Name: Confidence_Life_Style_Index, dtype: int64"
      ]
     },
     "execution_count": 23,
     "metadata": {},
     "output_type": "execute_result"
    }
   ],
   "source": [
    "train['Confidence_Life_Style_Index'].value_counts(dropna=False)\n",
    "# By the looks of it a value A might mean a higher confidence in the Life_Style_Index and a value of C might mean low confidence"
   ]
  },
  {
   "cell_type": "markdown",
   "metadata": {},
   "source": [
    "#### Destination_Type"
   ]
  },
  {
   "cell_type": "code",
   "execution_count": 24,
   "metadata": {},
   "outputs": [
    {
     "data": {
      "image/png": "[encoded data removed]",
      "text/plain": [
       "<Figure size 432x288 with 1 Axes>"
      ]
     },
     "metadata": {},
     "output_type": "display_data"
    }
   ],
   "source": [
    "train['Destination_Type'].value_counts(dropna=False).plot(kind='bar');\n",
    "plt.xticks(rotation=360);\n",
    "plt.xlabel(\"Destination_Type\");\n",
    "plt.ylabel(\"Count\");\n",
    "plt.title(\"Distribution of Destination Type Variable\");"
   ]
  },
  {
   "cell_type": "markdown",
   "metadata": {},
   "source": [
    "1. A seems to be the most common destination type. No missing values here\n",
    "2. M seems to be the least common destination type."
   ]
  },
  {
   "cell_type": "markdown",
   "metadata": {},
   "source": [
    "#### Customer_Rating"
   ]
  },
  {
   "cell_type": "code",
   "execution_count": 25,
   "metadata": {},
   "outputs": [
    {
     "data": {
      "text/plain": [
       "0"
      ]
     },
     "execution_count": 25,
     "metadata": {},
     "output_type": "execute_result"
    }
   ],
   "source": [
    "train['Customer_Rating'].isna().sum()\n",
    "# No Missing values in the customer rating variable."
   ]
  },
  {
   "cell_type": "code",
   "execution_count": 26,
   "metadata": {},
   "outputs": [
    {
     "data": {
      "text/plain": [
       "count    131662.000000\n",
       "mean          2.849458\n",
       "std           0.980675\n",
       "min           0.001250\n",
       "25%           2.152500\n",
       "50%           2.895000\n",
       "75%           3.582500\n",
       "max           5.000000\n",
       "Name: Customer_Rating, dtype: float64"
      ]
     },
     "execution_count": 26,
     "metadata": {},
     "output_type": "execute_result"
    }
   ],
   "source": [
    "train['Customer_Rating'].describe()"
   ]
  },
  {
   "cell_type": "markdown",
   "metadata": {},
   "source": [
    "1. Looks like a normal distribution with a large std deviation.\n",
    "2. Minimum value is almost 0 with maximum value being 5. "
   ]
  },
  {
   "cell_type": "code",
   "execution_count": 27,
   "metadata": {},
   "outputs": [
    {
     "data": {
      "text/plain": [
       "<matplotlib.axes._subplots.AxesSubplot at 0x1f7690f0dc8>"
      ]
     },
     "execution_count": 27,
     "metadata": {},
     "output_type": "execute_result"
    },
    {
     "data": {
      "image/png": "[encoded data removed]",
      "text/plain": [
       "<Figure size 432x288 with 1 Axes>"
      ]
     },
     "metadata": {},
     "output_type": "display_data"
    }
   ],
   "source": [
    "sns.distplot(train['Customer_Rating'])"
   ]
  },
  {
   "cell_type": "markdown",
   "metadata": {},
   "source": [
    "#### Cancellation_Last_1Month"
   ]
  },
  {
   "cell_type": "code",
   "execution_count": 28,
   "metadata": {},
   "outputs": [
    {
     "data": {
      "text/plain": [
       "0"
      ]
     },
     "execution_count": 28,
     "metadata": {},
     "output_type": "execute_result"
    }
   ],
   "source": [
    "train['Cancellation_Last_1Month'].isna().sum()\n",
    "# No Missing values in the Cancellation_Last_1Month variable."
   ]
  },
  {
   "cell_type": "code",
   "execution_count": 29,
   "metadata": {},
   "outputs": [
    {
     "data": {
      "image/png": "[encoded data removed]",
      "text/plain": [
       "<Figure size 432x288 with 1 Axes>"
      ]
     },
     "metadata": {},
     "output_type": "display_data"
    }
   ],
   "source": [
    "train['Cancellation_Last_1Month'].value_counts(dropna=False).plot(kind='bar')\n",
    "plt.xticks(rotation=360);\n",
    "plt.xlabel(\"# Cancellations\");\n",
    "plt.ylabel(\"Count\");\n",
    "plt.title(\"Count of Number of Cancellations in last 1 month\");"
   ]
  },
  {
   "cell_type": "markdown",
   "metadata": {},
   "source": [
    "1. Not many trips were cancelled by customers during the last month."
   ]
  },
  {
   "cell_type": "markdown",
   "metadata": {},
   "source": [
    "#### Var1, Var2, Var3"
   ]
  },
  {
   "cell_type": "code",
   "execution_count": 30,
   "metadata": {},
   "outputs": [
    {
     "data": {
      "text/plain": [
       "(71030, 0, 0)"
      ]
     },
     "execution_count": 30,
     "metadata": {},
     "output_type": "execute_result"
    }
   ],
   "source": [
    "train['Var1'].isna().sum(),train['Var2'].isna().sum(),train['Var3'].isna().sum()"
   ]
  },
  {
   "cell_type": "code",
   "execution_count": 31,
   "metadata": {},
   "outputs": [
    {
     "data": {
      "text/plain": [
       "count    60632.000000\n",
       "mean        64.202698\n",
       "std         21.820447\n",
       "min         30.000000\n",
       "25%         46.000000\n",
       "50%         61.000000\n",
       "75%         80.000000\n",
       "max        210.000000\n",
       "Name: Var1, dtype: float64"
      ]
     },
     "execution_count": 31,
     "metadata": {},
     "output_type": "execute_result"
    }
   ],
   "source": [
    "train['Var1'].describe()"
   ]
  },
  {
   "cell_type": "code",
   "execution_count": 32,
   "metadata": {},
   "outputs": [
    {
     "data": {
      "text/plain": [
       "count    131662.000000\n",
       "mean         51.202800\n",
       "std           4.986142\n",
       "min          40.000000\n",
       "25%          48.000000\n",
       "50%          50.000000\n",
       "75%          54.000000\n",
       "max         124.000000\n",
       "Name: Var2, dtype: float64"
      ]
     },
     "execution_count": 32,
     "metadata": {},
     "output_type": "execute_result"
    }
   ],
   "source": [
    "train['Var2'].describe()"
   ]
  },
  {
   "cell_type": "code",
   "execution_count": 33,
   "metadata": {},
   "outputs": [
    {
     "data": {
      "text/plain": [
       "count    131662.000000\n",
       "mean         75.099019\n",
       "std          11.578278\n",
       "min          52.000000\n",
       "25%          67.000000\n",
       "50%          74.000000\n",
       "75%          82.000000\n",
       "max         206.000000\n",
       "Name: Var3, dtype: float64"
      ]
     },
     "execution_count": 33,
     "metadata": {},
     "output_type": "execute_result"
    }
   ],
   "source": [
    "train['Var3'].describe()"
   ]
  },
  {
   "cell_type": "markdown",
   "metadata": {},
   "source": [
    "1. Var1 has more than 50% missing values in both train and test data.\n",
    "2. The distribution does not look normal.\n",
    "3. The Distribution of Var2 and Var3 variables almost looks normal.\n",
    "4. Var3 has a maximum value of 204 which needs to be explored."
   ]
  },
  {
   "cell_type": "code",
   "execution_count": 34,
   "metadata": {},
   "outputs": [
    {
     "data": {
      "image/png": "[encoded data removed]",
      "text/plain": [
       "<Figure size 432x288 with 1 Axes>"
      ]
     },
     "metadata": {},
     "output_type": "display_data"
    }
   ],
   "source": [
    "sns.distplot(train['Var1']);\n",
    "plt.title(\"Distribution of Var1 Variable\");"
   ]
  },
  {
   "cell_type": "code",
   "execution_count": 35,
   "metadata": {},
   "outputs": [
    {
     "data": {
      "image/png": "[encoded data removed]",
      "text/plain": [
       "<Figure size 432x288 with 1 Axes>"
      ]
     },
     "metadata": {},
     "output_type": "display_data"
    }
   ],
   "source": [
    "sns.distplot(train['Var2']);\n",
    "plt.title(\"Distribution of Var2 Variable\");"
   ]
  },
  {
   "cell_type": "code",
   "execution_count": 36,
   "metadata": {},
   "outputs": [
    {
     "data": {
      "image/png": "[encoded data removed]",
      "text/plain": [
       "<Figure size 432x288 with 1 Axes>"
      ]
     },
     "metadata": {},
     "output_type": "display_data"
    }
   ],
   "source": [
    "sns.distplot(train['Var3']);\n",
    "plt.title(\"Distribution of Var3 Variable\");"
   ]
  },
  {
   "cell_type": "code",
   "execution_count": 37,
   "metadata": {},
   "outputs": [
    {
     "name": "stdout",
     "output_type": "stream",
     "text": [
      "For Var1, Values below -5.0 and Values above 131.0 can be considered as outliers.\n",
      "For Var2, Values below 39.0 and Values above 63.0 can be considered as outliers.\n",
      "For Var3, Values below 44.5 and Values above 104.5 can be considered as outliers.\n"
     ]
    }
   ],
   "source": [
    "cols = ['Var1','Var2','Var3']\n",
    "for col in cols:\n",
    "    Q1= train[col].quantile(0.25)\n",
    "    Q3= train[col].quantile(0.75)\n",
    "    IQR = (Q3) - (Q1)\n",
    "    LowerRange = (Q1) - 1.5*(IQR)\n",
    "    UpperRange = (Q3) + 1.5*(IQR)\n",
    "    print (\"For {}, Values below {} and Values above {} can be considered as outliers.\".format(col,LowerRange,UpperRange))"
   ]
  },
  {
   "cell_type": "markdown",
   "metadata": {},
   "source": [
    "#### Gender"
   ]
  },
  {
   "cell_type": "code",
   "execution_count": 38,
   "metadata": {},
   "outputs": [
    {
     "data": {
      "text/plain": [
       "0"
      ]
     },
     "execution_count": 38,
     "metadata": {},
     "output_type": "execute_result"
    }
   ],
   "source": [
    "train['Gender'].isna().sum()"
   ]
  },
  {
   "cell_type": "code",
   "execution_count": 39,
   "metadata": {},
   "outputs": [
    {
     "data": {
      "image/png": "[encoded data removed]",
      "text/plain": [
       "<Figure size 432x288 with 1 Axes>"
      ]
     },
     "metadata": {},
     "output_type": "display_data"
    }
   ],
   "source": [
    "train['Gender'].value_counts().plot(kind='bar');\n",
    "plt.xticks(rotation=360);\n",
    "plt.xlabel(\"Gender\");\n",
    "plt.ylabel(\"Count\");\n",
    "plt.title(\"Distribution of Gender Variable\");"
   ]
  },
  {
   "cell_type": "markdown",
   "metadata": {},
   "source": [
    "### Bi-Variate Analysis"
   ]
  },
  {
   "cell_type": "code",
   "execution_count": 40,
   "metadata": {},
   "outputs": [
    {
     "data": {
      "text/html": [
       "<div>\n",
       "<style scoped>\n",
       "    .dataframe tbody tr th:only-of-type {\n",
       "        vertical-align: middle;\n",
       "    }\n",
       "\n",
       "    .dataframe tbody tr th {\n",
       "        vertical-align: top;\n",
       "    }\n",
       "\n",
       "    .dataframe thead th {\n",
       "        text-align: right;\n",
       "    }\n",
       "</style>\n",
       "<table border=\"1\" class=\"dataframe\">\n",
       "  <thead>\n",
       "    <tr style=\"text-align: right;\">\n",
       "      <th></th>\n",
       "      <th>count</th>\n",
       "      <th>min</th>\n",
       "      <th>max</th>\n",
       "      <th>mean</th>\n",
       "      <th>median</th>\n",
       "      <th>std</th>\n",
       "    </tr>\n",
       "    <tr>\n",
       "      <th>Type_of_Cab</th>\n",
       "      <th></th>\n",
       "      <th></th>\n",
       "      <th></th>\n",
       "      <th></th>\n",
       "      <th></th>\n",
       "      <th></th>\n",
       "    </tr>\n",
       "  </thead>\n",
       "  <tbody>\n",
       "    <tr>\n",
       "      <th>A</th>\n",
       "      <td>21569</td>\n",
       "      <td>1.53</td>\n",
       "      <td>109.23</td>\n",
       "      <td>43.847848</td>\n",
       "      <td>38.330</td>\n",
       "      <td>24.660934</td>\n",
       "    </tr>\n",
       "    <tr>\n",
       "      <th>B</th>\n",
       "      <td>31136</td>\n",
       "      <td>0.31</td>\n",
       "      <td>109.23</td>\n",
       "      <td>41.627295</td>\n",
       "      <td>36.575</td>\n",
       "      <td>23.540387</td>\n",
       "    </tr>\n",
       "    <tr>\n",
       "      <th>C</th>\n",
       "      <td>28122</td>\n",
       "      <td>1.55</td>\n",
       "      <td>109.23</td>\n",
       "      <td>43.635090</td>\n",
       "      <td>37.560</td>\n",
       "      <td>25.585164</td>\n",
       "    </tr>\n",
       "    <tr>\n",
       "      <th>D</th>\n",
       "      <td>18991</td>\n",
       "      <td>1.54</td>\n",
       "      <td>109.23</td>\n",
       "      <td>46.139080</td>\n",
       "      <td>40.930</td>\n",
       "      <td>27.188193</td>\n",
       "    </tr>\n",
       "    <tr>\n",
       "      <th>E</th>\n",
       "      <td>11634</td>\n",
       "      <td>1.77</td>\n",
       "      <td>109.23</td>\n",
       "      <td>49.996106</td>\n",
       "      <td>46.155</td>\n",
       "      <td>28.088998</td>\n",
       "    </tr>\n",
       "  </tbody>\n",
       "</table>\n",
       "</div>"
      ],
      "text/plain": [
       "             count   min     max       mean  median        std\n",
       "Type_of_Cab                                                   \n",
       "A            21569  1.53  109.23  43.847848  38.330  24.660934\n",
       "B            31136  0.31  109.23  41.627295  36.575  23.540387\n",
       "C            28122  1.55  109.23  43.635090  37.560  25.585164\n",
       "D            18991  1.54  109.23  46.139080  40.930  27.188193\n",
       "E            11634  1.77  109.23  49.996106  46.155  28.088998"
      ]
     },
     "execution_count": 40,
     "metadata": {},
     "output_type": "execute_result"
    }
   ],
   "source": [
    "train.groupby(\"Type_of_Cab\")['Trip_Distance'].agg(['count','min','max','mean','median','std'])"
   ]
  },
  {
   "cell_type": "markdown",
   "metadata": {},
   "source": [
    "1. We can see that the minimum value of B Cab Type is way below the others, and this can be an anomaly/outlier.\n",
    "2. The maximum value for all the cab types is the same which is surprising.\n",
    "3. Average value of B Cab type is below the others may be because of large count.\n",
    "4. Mean and Median values of E Cab type is highest and this may be because of low count of E Cab Type."
   ]
  },
  {
   "cell_type": "code",
   "execution_count": 41,
   "metadata": {},
   "outputs": [
    {
     "data": {
      "text/html": [
       "<div>\n",
       "<style scoped>\n",
       "    .dataframe tbody tr th:only-of-type {\n",
       "        vertical-align: middle;\n",
       "    }\n",
       "\n",
       "    .dataframe tbody tr th {\n",
       "        vertical-align: top;\n",
       "    }\n",
       "\n",
       "    .dataframe thead th {\n",
       "        text-align: right;\n",
       "    }\n",
       "</style>\n",
       "<table border=\"1\" class=\"dataframe\">\n",
       "  <thead>\n",
       "    <tr style=\"text-align: right;\">\n",
       "      <th></th>\n",
       "      <th>count</th>\n",
       "      <th>min</th>\n",
       "      <th>max</th>\n",
       "      <th>mean</th>\n",
       "      <th>median</th>\n",
       "      <th>std</th>\n",
       "    </tr>\n",
       "    <tr>\n",
       "      <th>Destination_Type</th>\n",
       "      <th></th>\n",
       "      <th></th>\n",
       "      <th></th>\n",
       "      <th></th>\n",
       "      <th></th>\n",
       "      <th></th>\n",
       "    </tr>\n",
       "  </thead>\n",
       "  <tbody>\n",
       "    <tr>\n",
       "      <th>A</th>\n",
       "      <td>77597</td>\n",
       "      <td>1.56</td>\n",
       "      <td>109.23</td>\n",
       "      <td>46.635770</td>\n",
       "      <td>42.800</td>\n",
       "      <td>25.095947</td>\n",
       "    </tr>\n",
       "    <tr>\n",
       "      <th>B</th>\n",
       "      <td>29555</td>\n",
       "      <td>1.53</td>\n",
       "      <td>109.23</td>\n",
       "      <td>45.517439</td>\n",
       "      <td>39.990</td>\n",
       "      <td>24.774040</td>\n",
       "    </tr>\n",
       "    <tr>\n",
       "      <th>C</th>\n",
       "      <td>7484</td>\n",
       "      <td>1.60</td>\n",
       "      <td>109.23</td>\n",
       "      <td>42.962588</td>\n",
       "      <td>36.100</td>\n",
       "      <td>27.323024</td>\n",
       "    </tr>\n",
       "    <tr>\n",
       "      <th>D</th>\n",
       "      <td>6588</td>\n",
       "      <td>0.31</td>\n",
       "      <td>109.22</td>\n",
       "      <td>29.641900</td>\n",
       "      <td>23.130</td>\n",
       "      <td>23.017592</td>\n",
       "    </tr>\n",
       "    <tr>\n",
       "      <th>E</th>\n",
       "      <td>2717</td>\n",
       "      <td>1.59</td>\n",
       "      <td>109.23</td>\n",
       "      <td>32.003544</td>\n",
       "      <td>24.580</td>\n",
       "      <td>24.544359</td>\n",
       "    </tr>\n",
       "    <tr>\n",
       "      <th>F</th>\n",
       "      <td>1950</td>\n",
       "      <td>2.41</td>\n",
       "      <td>109.19</td>\n",
       "      <td>46.445538</td>\n",
       "      <td>38.910</td>\n",
       "      <td>28.540257</td>\n",
       "    </tr>\n",
       "    <tr>\n",
       "      <th>G</th>\n",
       "      <td>1489</td>\n",
       "      <td>1.68</td>\n",
       "      <td>108.89</td>\n",
       "      <td>25.405561</td>\n",
       "      <td>20.290</td>\n",
       "      <td>17.322389</td>\n",
       "    </tr>\n",
       "    <tr>\n",
       "      <th>H</th>\n",
       "      <td>1260</td>\n",
       "      <td>1.73</td>\n",
       "      <td>109.05</td>\n",
       "      <td>27.206849</td>\n",
       "      <td>20.475</td>\n",
       "      <td>21.149759</td>\n",
       "    </tr>\n",
       "    <tr>\n",
       "      <th>I</th>\n",
       "      <td>813</td>\n",
       "      <td>2.30</td>\n",
       "      <td>107.02</td>\n",
       "      <td>22.498647</td>\n",
       "      <td>16.670</td>\n",
       "      <td>17.586359</td>\n",
       "    </tr>\n",
       "    <tr>\n",
       "      <th>J</th>\n",
       "      <td>695</td>\n",
       "      <td>1.78</td>\n",
       "      <td>106.88</td>\n",
       "      <td>19.405079</td>\n",
       "      <td>14.960</td>\n",
       "      <td>15.241565</td>\n",
       "    </tr>\n",
       "    <tr>\n",
       "      <th>K</th>\n",
       "      <td>680</td>\n",
       "      <td>1.55</td>\n",
       "      <td>109.04</td>\n",
       "      <td>32.805941</td>\n",
       "      <td>29.105</td>\n",
       "      <td>21.178817</td>\n",
       "    </tr>\n",
       "    <tr>\n",
       "      <th>L</th>\n",
       "      <td>643</td>\n",
       "      <td>2.09</td>\n",
       "      <td>109.18</td>\n",
       "      <td>46.542830</td>\n",
       "      <td>41.270</td>\n",
       "      <td>26.965493</td>\n",
       "    </tr>\n",
       "    <tr>\n",
       "      <th>M</th>\n",
       "      <td>93</td>\n",
       "      <td>4.36</td>\n",
       "      <td>107.84</td>\n",
       "      <td>34.750860</td>\n",
       "      <td>30.730</td>\n",
       "      <td>23.285015</td>\n",
       "    </tr>\n",
       "    <tr>\n",
       "      <th>N</th>\n",
       "      <td>98</td>\n",
       "      <td>2.35</td>\n",
       "      <td>55.43</td>\n",
       "      <td>18.638776</td>\n",
       "      <td>16.550</td>\n",
       "      <td>12.908560</td>\n",
       "    </tr>\n",
       "  </tbody>\n",
       "</table>\n",
       "</div>"
      ],
      "text/plain": [
       "                  count   min     max       mean  median        std\n",
       "Destination_Type                                                   \n",
       "A                 77597  1.56  109.23  46.635770  42.800  25.095947\n",
       "B                 29555  1.53  109.23  45.517439  39.990  24.774040\n",
       "C                  7484  1.60  109.23  42.962588  36.100  27.323024\n",
       "D                  6588  0.31  109.22  29.641900  23.130  23.017592\n",
       "E                  2717  1.59  109.23  32.003544  24.580  24.544359\n",
       "F                  1950  2.41  109.19  46.445538  38.910  28.540257\n",
       "G                  1489  1.68  108.89  25.405561  20.290  17.322389\n",
       "H                  1260  1.73  109.05  27.206849  20.475  21.149759\n",
       "I                   813  2.30  107.02  22.498647  16.670  17.586359\n",
       "J                   695  1.78  106.88  19.405079  14.960  15.241565\n",
       "K                   680  1.55  109.04  32.805941  29.105  21.178817\n",
       "L                   643  2.09  109.18  46.542830  41.270  26.965493\n",
       "M                    93  4.36  107.84  34.750860  30.730  23.285015\n",
       "N                    98  2.35   55.43  18.638776  16.550  12.908560"
      ]
     },
     "execution_count": 41,
     "metadata": {},
     "output_type": "execute_result"
    }
   ],
   "source": [
    "train.groupby(\"Destination_Type\")['Trip_Distance'].agg(['count','min','max','mean','median','std'])"
   ]
  },
  {
   "cell_type": "markdown",
   "metadata": {},
   "source": [
    "1. Maximum distance for each Destination_Type is the same."
   ]
  },
  {
   "cell_type": "markdown",
   "metadata": {},
   "source": [
    "### Missing Value Treatment, Feature Generation, Correlation, ...."
   ]
  },
  {
   "cell_type": "code",
   "execution_count": 42,
   "metadata": {},
   "outputs": [],
   "source": [
    "# Distance Binning\n",
    "def distance_binning(x):\n",
    "    if x<=30:\n",
    "        return \"Low\"\n",
    "    elif (x>30 and x<=60):\n",
    "        return \"Medium\"\n",
    "    elif (x>60 and x<=90):\n",
    "        return \"High\"\n",
    "    else:\n",
    "        return \"Very_High\"\n",
    "train['Distance_Bin'] = train['Trip_Distance'].apply(distance_binning)\n",
    "test['Distance_Bin'] = test['Trip_Distance'].apply(distance_binning)"
   ]
  },
  {
   "cell_type": "code",
   "execution_count": 43,
   "metadata": {},
   "outputs": [],
   "source": [
    "cols = [col for col in train.columns if train[col].isna().sum()>0]\n",
    "for col in cols:\n",
    "    # Creating Missing Value Indicators for Columns with Missing Values\n",
    "    train[col+\"_isNA\"] = train[col].isna()\n",
    "    test[col+\"_isNA\"] = test[col].isna()"
   ]
  },
  {
   "cell_type": "code",
   "execution_count": 44,
   "metadata": {},
   "outputs": [
    {
     "data": {
      "text/plain": [
       "'# Filling missing values\\n\\ntrain[\\'Type_of_Cab\\'].fillna(train[\\'Type_of_Cab\\'].value_counts(dropna=False).index[0],inplace=True)\\ntest[\\'Type_of_Cab\\'].fillna(test[\\'Type_of_Cab\\'].value_counts(dropna=False).index[0],inplace=True)\\n\\ntrain[\\'Life_Style_Index\\'].fillna(0,inplace=True)\\ntest[\\'Life_Style_Index\\'].fillna(0,inplace=True)\\n\\ntrain[\\'Confidence_Life_Style_Index\\'].fillna(\"Missing\",inplace=True)\\ntest[\\'Confidence_Life_Style_Index\\'].fillna(\"Missing\",inplace=True)\\n\\ntrain[\\'Customer_Since_Months\\'].fillna(\"Missing\",inplace=True)\\ntest[\\'Customer_Since_Months\\'].fillna(\"Missing\",inplace=True)\\n\\ntrain[\\'Var1\\'].fillna(0,inplace=True)\\ntest[\\'Var1\\'].fillna(0,inplace=True)'"
      ]
     },
     "execution_count": 44,
     "metadata": {},
     "output_type": "execute_result"
    }
   ],
   "source": [
    "\"\"\"# Filling missing values\n",
    "\n",
    "train['Type_of_Cab'].fillna(train['Type_of_Cab'].value_counts(dropna=False).index[0],inplace=True)\n",
    "test['Type_of_Cab'].fillna(test['Type_of_Cab'].value_counts(dropna=False).index[0],inplace=True)\n",
    "\n",
    "train['Life_Style_Index'].fillna(0,inplace=True)\n",
    "test['Life_Style_Index'].fillna(0,inplace=True)\n",
    "\n",
    "train['Confidence_Life_Style_Index'].fillna(\"Missing\",inplace=True)\n",
    "test['Confidence_Life_Style_Index'].fillna(\"Missing\",inplace=True)\n",
    "\n",
    "train['Customer_Since_Months'].fillna(\"Missing\",inplace=True)\n",
    "test['Customer_Since_Months'].fillna(\"Missing\",inplace=True)\n",
    "\n",
    "train['Var1'].fillna(0,inplace=True)\n",
    "test['Var1'].fillna(0,inplace=True)\"\"\""
   ]
  },
  {
   "cell_type": "code",
   "execution_count": 45,
   "metadata": {},
   "outputs": [],
   "source": [
    "agg_func = {\n",
    "    'Trip_Distance': ['mean','median','std']    \n",
    "}\n",
    "agg_func = train.groupby('Type_of_Cab').agg(agg_func)\n",
    "agg_func.columns = [ 'Type_of_Cab_' + ('_'.join(col).strip()) for col in agg_func.columns.values]\n",
    "agg_func.reset_index(inplace=True)\n",
    "train = train.merge(agg_func, on=['Type_of_Cab'], how='left')\n",
    "\n",
    "agg_func = {\n",
    "    'Trip_Distance': ['mean','median','std']    \n",
    "}\n",
    "agg_func = test.groupby('Type_of_Cab').agg(agg_func)\n",
    "agg_func.columns = [ 'Type_of_Cab_' + ('_'.join(col).strip()) for col in agg_func.columns.values]\n",
    "agg_func.reset_index(inplace=True)\n",
    "test = test.merge(agg_func, on=['Type_of_Cab'], how='left')"
   ]
  },
  {
   "cell_type": "code",
   "execution_count": 46,
   "metadata": {},
   "outputs": [],
   "source": [
    "agg_func = {\n",
    "    'Life_Style_Index': ['mean','median','std']    \n",
    "}\n",
    "agg_func = train.groupby('Type_of_Cab').agg(agg_func)\n",
    "agg_func.columns = [ 'Type_of_Cab_' + ('_'.join(col).strip()) for col in agg_func.columns.values]\n",
    "agg_func.reset_index(inplace=True)\n",
    "train = train.merge(agg_func, on=['Type_of_Cab'], how='left')\n",
    "\n",
    "agg_func = {\n",
    "    'Life_Style_Index': ['mean','median','std']    \n",
    "}\n",
    "agg_func = test.groupby('Type_of_Cab').agg(agg_func)\n",
    "agg_func.columns = [ 'Type_of_Cab_' + ('_'.join(col).strip()) for col in agg_func.columns.values]\n",
    "agg_func.reset_index(inplace=True)\n",
    "test = test.merge(agg_func, on=['Type_of_Cab'], how='left')"
   ]
  },
  {
   "cell_type": "code",
   "execution_count": 47,
   "metadata": {},
   "outputs": [],
   "source": [
    "agg_func = {\n",
    "    'Customer_Rating': ['mean','median','std']    \n",
    "}\n",
    "agg_func = train.groupby('Type_of_Cab').agg(agg_func)\n",
    "agg_func.columns = [ 'Type_of_Cab_' + ('_'.join(col).strip()) for col in agg_func.columns.values]\n",
    "agg_func.reset_index(inplace=True)\n",
    "train = train.merge(agg_func, on=['Type_of_Cab'], how='left')\n",
    "\n",
    "agg_func = {\n",
    "    'Customer_Rating': ['mean','median','std']    \n",
    "}\n",
    "agg_func = test.groupby('Type_of_Cab').agg(agg_func)\n",
    "agg_func.columns = [ 'Type_of_Cab_' + ('_'.join(col).strip()) for col in agg_func.columns.values]\n",
    "agg_func.reset_index(inplace=True)\n",
    "test = test.merge(agg_func, on=['Type_of_Cab'], how='left')"
   ]
  },
  {
   "cell_type": "code",
   "execution_count": 48,
   "metadata": {},
   "outputs": [],
   "source": [
    "agg_func = {\n",
    "    'Trip_Distance': ['mean','median','std']    \n",
    "}\n",
    "agg_func = train.groupby('Destination_Type').agg(agg_func)\n",
    "agg_func.columns = [ 'Destination_Type_' + ('_'.join(col).strip()) for col in agg_func.columns.values]\n",
    "agg_func.reset_index(inplace=True)\n",
    "train = train.merge(agg_func, on=['Destination_Type'], how='left')\n",
    "\n",
    "agg_func = {\n",
    "    'Trip_Distance': ['mean','median','std']    \n",
    "}\n",
    "agg_func = test.groupby('Destination_Type').agg(agg_func)\n",
    "agg_func.columns = [ 'Destination_Type_' + ('_'.join(col).strip()) for col in agg_func.columns.values]\n",
    "agg_func.reset_index(inplace=True)\n",
    "test = test.merge(agg_func, on=['Destination_Type'], how='left')"
   ]
  },
  {
   "cell_type": "code",
   "execution_count": 49,
   "metadata": {},
   "outputs": [],
   "source": [
    "agg_func = {\n",
    "    'Life_Style_Index': ['mean','median','std']    \n",
    "}\n",
    "agg_func = train.groupby('Destination_Type').agg(agg_func)\n",
    "agg_func.columns = [ 'Destination_Type_' + ('_'.join(col).strip()) for col in agg_func.columns.values]\n",
    "agg_func.reset_index(inplace=True)\n",
    "train = train.merge(agg_func, on=['Destination_Type'], how='left')\n",
    "\n",
    "agg_func = {\n",
    "    'Life_Style_Index': ['mean','median','std']    \n",
    "}\n",
    "agg_func = test.groupby('Destination_Type').agg(agg_func)\n",
    "agg_func.columns = [ 'Destination_Type_' + ('_'.join(col).strip()) for col in agg_func.columns.values]\n",
    "agg_func.reset_index(inplace=True)\n",
    "test = test.merge(agg_func, on=['Destination_Type'], how='left')"
   ]
  },
  {
   "cell_type": "code",
   "execution_count": 50,
   "metadata": {},
   "outputs": [],
   "source": [
    "agg_func = {\n",
    "    'Customer_Rating': ['mean','median','std']    \n",
    "}\n",
    "agg_func = train.groupby('Destination_Type').agg(agg_func)\n",
    "agg_func.columns = [ 'Destination_Type_' + ('_'.join(col).strip()) for col in agg_func.columns.values]\n",
    "agg_func.reset_index(inplace=True)\n",
    "train = train.merge(agg_func, on=['Destination_Type'], how='left')\n",
    "\n",
    "agg_func = {\n",
    "    'Customer_Rating': ['mean','median','std']    \n",
    "}\n",
    "agg_func = test.groupby('Destination_Type').agg(agg_func)\n",
    "agg_func.columns = [ 'Destination_Type_' + ('_'.join(col).strip()) for col in agg_func.columns.values]\n",
    "agg_func.reset_index(inplace=True)\n",
    "test = test.merge(agg_func, on=['Destination_Type'], how='left')"
   ]
  },
  {
   "cell_type": "code",
   "execution_count": 51,
   "metadata": {},
   "outputs": [],
   "source": [
    "train.drop(\"Trip_ID\",axis=1,inplace=True)"
   ]
  },
  {
   "cell_type": "code",
   "execution_count": 52,
   "metadata": {},
   "outputs": [],
   "source": [
    "# Converting Categorical Data Type Variables to Category data type\n",
    "cols = ['Type_of_Cab','Customer_Since_Months','Confidence_Life_Style_Index','Destination_Type','Cancellation_Last_1Month','Gender','Distance_Bin']\n",
    "for col in cols:\n",
    "    train[col] = train[col].astype('category')\n",
    "    train[col] = train[col].cat.codes+1\n",
    "    \n",
    "    test[col] = test[col].astype('category')\n",
    "    test[col] = test[col].cat.codes+1"
   ]
  },
  {
   "cell_type": "code",
   "execution_count": 53,
   "metadata": {},
   "outputs": [
    {
     "data": {
      "text/plain": [
       "((131662, 37), (87395, 36))"
      ]
     },
     "execution_count": 53,
     "metadata": {},
     "output_type": "execute_result"
    }
   ],
   "source": [
    "train.shape, test.shape"
   ]
  },
  {
   "cell_type": "code",
   "execution_count": 54,
   "metadata": {},
   "outputs": [],
   "source": [
    "cols = ['Trip_Distance','Life_Style_Index','Var1','Var2','Var3']\n",
    "for col in cols:\n",
    "    train[col] = np.log1p(train[col])\n",
    "    test[col] = np.log1p(test[col])"
   ]
  },
  {
   "cell_type": "code",
   "execution_count": 55,
   "metadata": {},
   "outputs": [],
   "source": [
    "y = train['Surge_Pricing_Type']\n",
    "X = train[[col for col in train.columns if col!=\"Surge_Pricing_Type\"]]"
   ]
  },
  {
   "cell_type": "code",
   "execution_count": 56,
   "metadata": {},
   "outputs": [
    {
     "name": "stderr",
     "output_type": "stream",
     "text": [
      "C:\\Users\\kulka\\anaconda3\\lib\\site-packages\\sklearn\\model_selection\\_split.py:296: FutureWarning: Setting a random_state has no effect since shuffle is False. This will raise an error in 0.24. You should leave random_state to its default (None), or set shuffle=True.\n",
      "  FutureWarning\n"
     ]
    }
   ],
   "source": [
    "kf = StratifiedKFold(n_splits=5,shuffle=False,random_state=42)"
   ]
  },
  {
   "cell_type": "code",
   "execution_count": null,
   "metadata": {},
   "outputs": [],
   "source": [
    "clf = lgb.LGBMClassifier(boosting_type='gbdt',objective='multiclass',num_class=3,random_state=42,n_jobs=-1,verbose=1,)\n",
    "params = {\"max_depth\":[4,6,8,10,-1],\n",
    "          \"learning_rate\":[0.001,0.005,0.01,0.05,0.1,0.3],\n",
    "          \"subsample\":[0.5,0.6,0.7,0.8,0.9],\n",
    "          \"colsample_bytree\":[0.5,0.6,0.7,0.8,0.9],\n",
    "          \"reg_alpha\":[0,0.25,0.5,1,2],\n",
    "          \"reg_lambda\":[0,0.25,0.5,1,2],\n",
    "          \"num_leaves\":[7,15,31,63,127],\n",
    "          \"min_data_in_leaf\":[1,3,5,7,10,25],\n",
    "          \"n_estimators\":list(range(50,1001,50))}\n",
    "random_search = RandomizedSearchCV(estimator=clf,param_distributions=params,cv=kf.split(X,y),scoring='accuracy')\n",
    "random_search.fit(X,y)"
   ]
  },
  {
   "cell_type": "code",
   "execution_count": null,
   "metadata": {},
   "outputs": [],
   "source": [
    "random_search.best_estimator_,random_search.best_params_,random_search.best_score_"
   ]
  },
  {
   "cell_type": "code",
   "execution_count": null,
   "metadata": {},
   "outputs": [],
   "source": [
    "plt.figure(figsize=(18,6))\n",
    "ser = pd.Series(random_search.best_estimator_.feature_importances_,X.columns).sort_values()\n",
    "ser.plot(kind='bar')"
   ]
  },
  {
   "cell_type": "code",
   "execution_count": null,
   "metadata": {},
   "outputs": [],
   "source": [
    "clf = xgb.XGBClassifier(random_state=42,n_jobs=-1,verbosity=1,objective=\"multi:softmax\",num_class=3,eval_metric='mlogloss')\n",
    "params = {\"max_depth\":[3,4,5,6,7,8,9],\n",
    "          \"n_estimators\":list(range(50,501,50)),\n",
    "          \"learning_rate\":[0.01,0.05,0.1,0.3],\n",
    "          \"subsample\":[0.5,0.6,0.7,0.8,0.9],\n",
    "          \"colsample_bytree\":[0.5,0.6,0.7,0.8,0.9],\n",
    "          \"reg_alpha\":[0,0.25,0.5,1,2],\n",
    "          \"reg_lambda\":[0,0.25,0.5,1,2]}\n",
    "random_search_2 = RandomizedSearchCV(estimator=clf,param_distributions=params,cv=kf.split(X,y),scoring='accuracy')\n",
    "random_search_2.fit(X_Train,y_Train)"
   ]
  },
  {
   "cell_type": "code",
   "execution_count": null,
   "metadata": {},
   "outputs": [],
   "source": [
    "random_search_2.best_estimator_,random_search_2.best_params_,random_search_2.best_score_"
   ]
  },
  {
   "cell_type": "code",
   "execution_count": null,
   "metadata": {},
   "outputs": [],
   "source": [
    "plt.figure(figsize=(18,6))\n",
    "ser = pd.Series(random_search_2.best_estimator_.feature_importances_,X.columns).sort_values()\n",
    "ser.plot(kind='bar')"
   ]
  },
  {
   "cell_type": "code",
   "execution_count": null,
   "metadata": {},
   "outputs": [],
   "source": [
    "#Submission['Surge_Pricing_Type'] = random_search.best_estimator_.predict(test)\n",
    "#Submission.to_csv(\"Sub_13.csv\",index=None)"
   ]
  }
 ],
 "metadata": {
  "kernelspec": {
   "display_name": "Python 3",
   "language": "python",
   "name": "python3"
  },
  "language_info": {
   "codemirror_mode": {
    "name": "ipython",
    "version": 3
   },
   "file_extension": ".py",
   "mimetype": "text/x-python",
   "name": "python",
   "nbconvert_exporter": "python",
   "pygments_lexer": "ipython3",
   "version": "3.7.6"
  }
 },
 "nbformat": 4,
 "nbformat_minor": 4
}
